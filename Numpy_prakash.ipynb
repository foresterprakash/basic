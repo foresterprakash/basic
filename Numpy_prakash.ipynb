{
  "nbformat": 4,
  "nbformat_minor": 0,
  "metadata": {
    "colab": {
      "provenance": [],
      "authorship_tag": "ABX9TyNSbfYMIz1CgUl0Sk82zrJm",
      "include_colab_link": true
    },
    "kernelspec": {
      "name": "python3",
      "display_name": "Python 3"
    },
    "language_info": {
      "name": "python"
    }
  },
  "cells": [
    {
      "cell_type": "markdown",
      "metadata": {
        "id": "view-in-github",
        "colab_type": "text"
      },
      "source": [
        "<a href=\"https://colab.research.google.com/github/foresterprakash/basic/blob/main/Numpy_prakash.ipynb\" target=\"_parent\"><img src=\"https://colab.research.google.com/assets/colab-badge.svg\" alt=\"Open In Colab\"/></a>"
      ]
    },
    {
      "cell_type": "markdown",
      "source": [
        "# Data science in Numpy.\n",
        "Numpy fundamentals \n",
        "Following fundamental concepts and methods are essential to learn Numpy in Python language\n",
        "\n",
        "*   Array creation\n",
        "*Indexing on ndarrays\n",
        "*I/O with NumPy\n",
        "*Data types\n",
        "*Broadcasting\n",
        "*Copies and views\n",
        "*Structured arrays\n",
        "*Universal functions (ufunc) basics\n",
        "\n",
        "\n",
        "[Numpy basics](https://numpy.org/devdocs/user/basics.html)\n",
        "\n",
        "\n"
      ],
      "metadata": {
        "id": "5pUGv3pAwdtz"
      }
    },
    {
      "cell_type": "markdown",
      "source": [
        "## 1 . Array creation\n",
        "There are 6 general mechanisms for creating arrays:\n",
        "\n",
        "* Conversion from other Python structures (i.e. lists and tuples)\n",
        "\n",
        "* Intrinsic NumPy array creation functions (e.g. arange, ones, zeros, etc.)\n",
        "\n",
        "* Replicating, joining, or mutating existing arrays\n",
        "\n",
        "You can use these methods to create ndarrays or Structured arrays. This document will cover general methods for ndarray creation."
      ],
      "metadata": {
        "id": "z4HjxMVX7YGh"
      }
    },
    {
      "cell_type": "markdown",
      "source": [
        "## 1.1 Conversion from python structures (list and tuples)"
      ],
      "metadata": {
        "id": "i6GEHXgpH5kU"
      }
    },
    {
      "cell_type": "code",
      "execution_count": 14,
      "metadata": {
        "id": "j0aTwvH8warE"
      },
      "outputs": [],
      "source": [
        "# converting the python structures ( i.e. Lists and tuples)\n",
        "# NumPy arrays can be defined using Python sequences such as lists and tuples. Lists and tuples are defined using [...] and (...), respectively. Lists and tuples can define ndarray creation:\n",
        "# a list of numbers will create a 1D array,\n",
        "# a list of lists will create a 2D array,\n",
        "# further nested lists will create higher-dimensional arrays. In general, any array object is called an ndarray in NumPy.\n",
        "# Creating python lists of multidimensions\n",
        "l1 = [2,4,6,8,10]\n",
        "l2 = [[1,3,5],[7,9,11]]\n",
        "l3 = [[1,2,3],[4,5,6],[7,8,9]]"
      ]
    },
    {
      "cell_type": "code",
      "source": [
        "# Lets import the numpy in the note book.\n",
        "# To install numpy \n",
        "# pip install numpy\n",
        "import numpy as np"
      ],
      "metadata": {
        "id": "nrXDQalQ8Cu7"
      },
      "execution_count": 15,
      "outputs": []
    },
    {
      "cell_type": "code",
      "source": [
        "# Convert array from th python list in numpy\n",
        "a1D = np.array(l1) # one dimensional array\n",
        "a1D"
      ],
      "metadata": {
        "colab": {
          "base_uri": "https://localhost:8080/",
          "height": 0
        },
        "id": "9ZopxN2f8RRn",
        "outputId": "afb98b90-37a4-4c29-ccbf-e6f9a2c372f8"
      },
      "execution_count": 16,
      "outputs": [
        {
          "output_type": "execute_result",
          "data": {
            "text/plain": [
              "array([ 2,  4,  6,  8, 10])"
            ]
          },
          "metadata": {},
          "execution_count": 16
        }
      ]
    },
    {
      "cell_type": "code",
      "source": [
        "a1D.ndim"
      ],
      "metadata": {
        "colab": {
          "base_uri": "https://localhost:8080/",
          "height": 0
        },
        "id": "lpfwJx60IYjw",
        "outputId": "a3fbbef9-e455-4a33-f50c-52b4a1692e02"
      },
      "execution_count": 25,
      "outputs": [
        {
          "output_type": "execute_result",
          "data": {
            "text/plain": [
              "1"
            ]
          },
          "metadata": {},
          "execution_count": 25
        }
      ]
    },
    {
      "cell_type": "code",
      "source": [
        "a2D = np.array(l2) # two dimensional array\n",
        "a2D"
      ],
      "metadata": {
        "colab": {
          "base_uri": "https://localhost:8080/",
          "height": 0
        },
        "id": "SfLcvkb3BnNQ",
        "outputId": "b290091a-e54f-4d7d-993b-a6151abecdb3"
      },
      "execution_count": 17,
      "outputs": [
        {
          "output_type": "execute_result",
          "data": {
            "text/plain": [
              "array([[ 1,  3,  5],\n",
              "       [ 7,  9, 11]])"
            ]
          },
          "metadata": {},
          "execution_count": 17
        }
      ]
    },
    {
      "cell_type": "code",
      "source": [
        "a2D.ndim"
      ],
      "metadata": {
        "colab": {
          "base_uri": "https://localhost:8080/",
          "height": 0
        },
        "id": "odrGy522Ibku",
        "outputId": "429bc8fc-2768-40dd-cb62-0d2ca10ffa72"
      },
      "execution_count": 26,
      "outputs": [
        {
          "output_type": "execute_result",
          "data": {
            "text/plain": [
              "2"
            ]
          },
          "metadata": {},
          "execution_count": 26
        }
      ]
    },
    {
      "cell_type": "code",
      "source": [
        "a3D = np.array(l3) # three dimensional array\n",
        "a3D"
      ],
      "metadata": {
        "colab": {
          "base_uri": "https://localhost:8080/",
          "height": 0
        },
        "id": "HQEr2bzLB4Ve",
        "outputId": "3c84611e-0cfa-4cef-edf0-9b6caa64aac1"
      },
      "execution_count": 18,
      "outputs": [
        {
          "output_type": "execute_result",
          "data": {
            "text/plain": [
              "array([[1, 2, 3],\n",
              "       [4, 5, 6],\n",
              "       [7, 8, 9]])"
            ]
          },
          "metadata": {},
          "execution_count": 18
        }
      ]
    },
    {
      "cell_type": "code",
      "source": [
        "a2D.ndim"
      ],
      "metadata": {
        "colab": {
          "base_uri": "https://localhost:8080/",
          "height": 0
        },
        "id": "hyhTlN34Ifjy",
        "outputId": "01ff4f8d-767a-437b-bec0-0c57cd35aed6"
      },
      "execution_count": 27,
      "outputs": [
        {
          "output_type": "execute_result",
          "data": {
            "text/plain": [
              "2"
            ]
          },
          "metadata": {},
          "execution_count": 27
        }
      ]
    },
    {
      "cell_type": "code",
      "source": [
        "a2D.dtype"
      ],
      "metadata": {
        "colab": {
          "base_uri": "https://localhost:8080/",
          "height": 0
        },
        "id": "LnnsO7puIh1R",
        "outputId": "e6575ee5-c36c-491b-845b-598e19166033"
      },
      "execution_count": 28,
      "outputs": [
        {
          "output_type": "execute_result",
          "data": {
            "text/plain": [
              "dtype('int64')"
            ]
          },
          "metadata": {},
          "execution_count": 28
        }
      ]
    },
    {
      "cell_type": "code",
      "source": [
        "# Create a python tuples and convert into array"
      ],
      "metadata": {
        "id": "dujuzAYhB8mm"
      },
      "execution_count": 19,
      "outputs": []
    },
    {
      "cell_type": "code",
      "source": [
        "t1 = (1,2,3,4,5)"
      ],
      "metadata": {
        "id": "xQ-bsDe9IG2v"
      },
      "execution_count": 20,
      "outputs": []
    },
    {
      "cell_type": "code",
      "source": [
        "at = np.array(t1)\n"
      ],
      "metadata": {
        "id": "NL6FBTpSIKOE"
      },
      "execution_count": 22,
      "outputs": []
    },
    {
      "cell_type": "code",
      "source": [
        "at"
      ],
      "metadata": {
        "colab": {
          "base_uri": "https://localhost:8080/",
          "height": 0
        },
        "id": "YUeFHGYVIMPw",
        "outputId": "df0ad35e-f29a-47ec-daaf-43029c89729a"
      },
      "execution_count": 23,
      "outputs": [
        {
          "output_type": "execute_result",
          "data": {
            "text/plain": [
              "array([1, 2, 3, 4, 5])"
            ]
          },
          "metadata": {},
          "execution_count": 23
        }
      ]
    },
    {
      "cell_type": "code",
      "source": [
        "at.ndim"
      ],
      "metadata": {
        "colab": {
          "base_uri": "https://localhost:8080/",
          "height": 0
        },
        "id": "Aq8bNqWnIQZk",
        "outputId": "8f28ea66-ab6d-4621-c024-1255839e96e3"
      },
      "execution_count": 24,
      "outputs": [
        {
          "output_type": "execute_result",
          "data": {
            "text/plain": [
              "1"
            ]
          },
          "metadata": {},
          "execution_count": 24
        }
      ]
    },
    {
      "cell_type": "code",
      "source": [
        "at.dtype"
      ],
      "metadata": {
        "colab": {
          "base_uri": "https://localhost:8080/",
          "height": 0
        },
        "id": "_pZobqKUIWQz",
        "outputId": "433f192d-72c4-4a1a-c7f9-7e5c3c587c00"
      },
      "execution_count": 29,
      "outputs": [
        {
          "output_type": "execute_result",
          "data": {
            "text/plain": [
              "dtype('int64')"
            ]
          },
          "metadata": {},
          "execution_count": 29
        }
      ]
    },
    {
      "cell_type": "markdown",
      "source": [
        "## 1.2 Intrinsic NumPy array creation functions (e.g. arange, ones, zeros, etc.)"
      ],
      "metadata": {
        "id": "h6ed84h9JdY0"
      }
    },
    {
      "cell_type": "code",
      "source": [
        "# creating 1D array\n",
        "np.arange(1,10)"
      ],
      "metadata": {
        "colab": {
          "base_uri": "https://localhost:8080/",
          "height": 0
        },
        "id": "J6AErSwEJbwP",
        "outputId": "404d53e3-93b5-4739-f469-f483d358ab44"
      },
      "execution_count": 30,
      "outputs": [
        {
          "output_type": "execute_result",
          "data": {
            "text/plain": [
              "array([1, 2, 3, 4, 5, 6, 7, 8, 9])"
            ]
          },
          "metadata": {},
          "execution_count": 30
        }
      ]
    },
    {
      "cell_type": "code",
      "source": [
        "#with mentioning data type\n",
        "np.arange(1,10,dtype = float)"
      ],
      "metadata": {
        "colab": {
          "base_uri": "https://localhost:8080/",
          "height": 0
        },
        "id": "tlRGdVjPJ70V",
        "outputId": "3b60822e-c6a3-4c24-ea3d-1b60de1a152d"
      },
      "execution_count": 33,
      "outputs": [
        {
          "output_type": "execute_result",
          "data": {
            "text/plain": [
              "array([1., 2., 3., 4., 5., 6., 7., 8., 9.])"
            ]
          },
          "metadata": {},
          "execution_count": 33
        }
      ]
    },
    {
      "cell_type": "code",
      "source": [
        "# With mentioning the or interval\n",
        "np.arange(1,4,0.5,dtype = float)"
      ],
      "metadata": {
        "colab": {
          "base_uri": "https://localhost:8080/",
          "height": 0
        },
        "id": "uhIR3tvTKErS",
        "outputId": "0b04c6c8-02ba-4dca-a211-20ffc32abc1f"
      },
      "execution_count": 36,
      "outputs": [
        {
          "output_type": "execute_result",
          "data": {
            "text/plain": [
              "array([1. , 1.5, 2. , 2.5, 3. , 3.5])"
            ]
          },
          "metadata": {},
          "execution_count": 36
        }
      ]
    },
    {
      "cell_type": "code",
      "source": [
        "# with linespace - creates the fix interval between the range\n",
        "np.linspace(1.,10.,6)"
      ],
      "metadata": {
        "colab": {
          "base_uri": "https://localhost:8080/",
          "height": 0
        },
        "id": "cqwjkAIuKRZT",
        "outputId": "be8c1f98-1bab-4b84-a842-5aca924a91d6"
      },
      "execution_count": 39,
      "outputs": [
        {
          "output_type": "execute_result",
          "data": {
            "text/plain": [
              "array([ 1. ,  2.8,  4.6,  6.4,  8.2, 10. ])"
            ]
          },
          "metadata": {},
          "execution_count": 39
        }
      ]
    },
    {
      "cell_type": "code",
      "source": [
        "# creating 2D array\n",
        "# Multidimensional array are the vectors\n",
        "# functions are np.eye, np.diag and np.vander\n",
        "np.eye(3) # it creates the unit square matrix of 3 rows and columns"
      ],
      "metadata": {
        "colab": {
          "base_uri": "https://localhost:8080/",
          "height": 0
        },
        "id": "4QdzdTqhKjrO",
        "outputId": "daf5070d-a4f9-439e-dec7-36a7fc36f579"
      },
      "execution_count": 41,
      "outputs": [
        {
          "output_type": "execute_result",
          "data": {
            "text/plain": [
              "array([[1., 0., 0.],\n",
              "       [0., 1., 0.],\n",
              "       [0., 0., 1.]])"
            ]
          },
          "metadata": {},
          "execution_count": 41
        }
      ]
    },
    {
      "cell_type": "code",
      "source": [
        "np.eye(2,3) # creates the matrix with 2 rows and 3 columns"
      ],
      "metadata": {
        "colab": {
          "base_uri": "https://localhost:8080/",
          "height": 0
        },
        "id": "vk8vw6VrLhSY",
        "outputId": "b43d2683-4b63-45b2-f22d-8593f3eb2d30"
      },
      "execution_count": 42,
      "outputs": [
        {
          "output_type": "execute_result",
          "data": {
            "text/plain": [
              "array([[1., 0., 0.],\n",
              "       [0., 1., 0.]])"
            ]
          },
          "metadata": {},
          "execution_count": 42
        }
      ]
    },
    {
      "cell_type": "code",
      "source": [
        "np.diag([1,2,3]) # This creates the matrix with digonal value 1,2 and 3"
      ],
      "metadata": {
        "colab": {
          "base_uri": "https://localhost:8080/",
          "height": 0
        },
        "id": "oeQe08_2Lu8q",
        "outputId": "b2a8b3df-b39f-44b9-bd13-2f8286ff8b91"
      },
      "execution_count": 44,
      "outputs": [
        {
          "output_type": "execute_result",
          "data": {
            "text/plain": [
              "array([[1, 0, 0],\n",
              "       [0, 2, 0],\n",
              "       [0, 0, 3]])"
            ]
          },
          "metadata": {},
          "execution_count": 44
        }
      ]
    },
    {
      "cell_type": "code",
      "source": [
        "np.vander(np.linspace(1,10,5),2)"
      ],
      "metadata": {
        "colab": {
          "base_uri": "https://localhost:8080/",
          "height": 0
        },
        "id": "wNbPpQghMJxo",
        "outputId": "eee672de-a49d-4e90-f747-2ddcc78faf67"
      },
      "execution_count": 49,
      "outputs": [
        {
          "output_type": "execute_result",
          "data": {
            "text/plain": [
              "array([[ 1.  ,  1.  ],\n",
              "       [ 3.25,  1.  ],\n",
              "       [ 5.5 ,  1.  ],\n",
              "       [ 7.75,  1.  ],\n",
              "       [10.  ,  1.  ]])"
            ]
          },
          "metadata": {},
          "execution_count": 49
        }
      ]
    },
    {
      "cell_type": "code",
      "source": [
        "np.vander((1,2),2)"
      ],
      "metadata": {
        "colab": {
          "base_uri": "https://localhost:8080/",
          "height": 0
        },
        "id": "wCxKb77GM0tq",
        "outputId": "451e5385-720e-47f7-fc0e-28461856fa00"
      },
      "execution_count": 52,
      "outputs": [
        {
          "output_type": "execute_result",
          "data": {
            "text/plain": [
              "array([[1, 1],\n",
              "       [2, 1]])"
            ]
          },
          "metadata": {},
          "execution_count": 52
        }
      ]
    },
    {
      "cell_type": "code",
      "source": [
        "np.vander((1,2,3,4),5)"
      ],
      "metadata": {
        "colab": {
          "base_uri": "https://localhost:8080/",
          "height": 0
        },
        "id": "T0vMC9fGOCK_",
        "outputId": "4d219b60-b11f-4ece-87f9-345cf41ee875"
      },
      "execution_count": 53,
      "outputs": [
        {
          "output_type": "execute_result",
          "data": {
            "text/plain": [
              "array([[  1,   1,   1,   1,   1],\n",
              "       [ 16,   8,   4,   2,   1],\n",
              "       [ 81,  27,   9,   3,   1],\n",
              "       [256,  64,  16,   4,   1]])"
            ]
          },
          "metadata": {},
          "execution_count": 53
        }
      ]
    },
    {
      "cell_type": "markdown",
      "source": [
        "[Details on Vandermonde matrix](https://mathworld.wolfram.com/VandermondeMatrix.html#:~:text=A%20Vandermonde%20matrix%20is%20a,83)"
      ],
      "metadata": {
        "id": "_RuvHRvDPBuW"
      }
    },
    {
      "cell_type": "markdown",
      "source": [
        "### General array creating functions\n",
        "The ndarray creation functions e.g. numpy.ones, numpy.zeros, and random define arrays based upon the desired shape. The ndarray creation functions can create arrays with any dimension by specifying how many dimensions and length along that dimension in a tuple or list."
      ],
      "metadata": {
        "id": "XBh-GDKCRi-w"
      }
    },
    {
      "cell_type": "markdown",
      "source": [
        "**np.zeros** "
      ],
      "metadata": {
        "id": "hDRVSELaS59A"
      }
    },
    {
      "cell_type": "code",
      "source": [
        "np.zeros((2,3)) # creates the 2 *3 vector of value o"
      ],
      "metadata": {
        "colab": {
          "base_uri": "https://localhost:8080/",
          "height": 0
        },
        "id": "lnno342aOrdk",
        "outputId": "e58922f6-c18c-4fe0-ae5e-5528f52f90f4"
      },
      "execution_count": 56,
      "outputs": [
        {
          "output_type": "execute_result",
          "data": {
            "text/plain": [
              "array([[0., 0., 0.],\n",
              "       [0., 0., 0.]])"
            ]
          },
          "metadata": {},
          "execution_count": 56
        }
      ]
    },
    {
      "cell_type": "code",
      "source": [
        "np.zeros((2,3,2)) # creates the 3 dimensional array with value 0"
      ],
      "metadata": {
        "colab": {
          "base_uri": "https://localhost:8080/",
          "height": 0
        },
        "id": "qRSBq-utRhUc",
        "outputId": "301c6841-6a90-4295-b50d-f52ebb732e6c"
      },
      "execution_count": 60,
      "outputs": [
        {
          "output_type": "execute_result",
          "data": {
            "text/plain": [
              "array([[[0., 0.],\n",
              "        [0., 0.],\n",
              "        [0., 0.]],\n",
              "\n",
              "       [[0., 0.],\n",
              "        [0., 0.],\n",
              "        [0., 0.]]])"
            ]
          },
          "metadata": {},
          "execution_count": 60
        }
      ]
    },
    {
      "cell_type": "markdown",
      "source": [
        "**np.ones**"
      ],
      "metadata": {
        "id": "wngyWhoqTHAE"
      }
    },
    {
      "cell_type": "code",
      "source": [
        "np.ones((2,3)) # same as np.zeros but the value will be 1"
      ],
      "metadata": {
        "colab": {
          "base_uri": "https://localhost:8080/",
          "height": 0
        },
        "id": "Q8RiXuoPSHyJ",
        "outputId": "2259f534-1199-4871-a614-77451d3baba7"
      },
      "execution_count": 61,
      "outputs": [
        {
          "output_type": "execute_result",
          "data": {
            "text/plain": [
              "array([[1., 1., 1.],\n",
              "       [1., 1., 1.]])"
            ]
          },
          "metadata": {},
          "execution_count": 61
        }
      ]
    },
    {
      "cell_type": "code",
      "source": [
        "np.ones((2,3,2))"
      ],
      "metadata": {
        "colab": {
          "base_uri": "https://localhost:8080/",
          "height": 0
        },
        "id": "Sp8wpzGVSqM2",
        "outputId": "aae4eb33-a3cc-467d-d7bd-e62205f8d14d"
      },
      "execution_count": 62,
      "outputs": [
        {
          "output_type": "execute_result",
          "data": {
            "text/plain": [
              "array([[[1., 1.],\n",
              "        [1., 1.],\n",
              "        [1., 1.]],\n",
              "\n",
              "       [[1., 1.],\n",
              "        [1., 1.],\n",
              "        [1., 1.]]])"
            ]
          },
          "metadata": {},
          "execution_count": 62
        }
      ]
    },
    {
      "cell_type": "markdown",
      "source": [
        "**random**"
      ],
      "metadata": {
        "id": "j1sQg8ukTf2P"
      }
    },
    {
      "cell_type": "code",
      "source": [
        "import random\n",
        "random.seed(40)\n",
        "data = [random.randint(1, 10) for i in range(10)]\n",
        "data"
      ],
      "metadata": {
        "colab": {
          "base_uri": "https://localhost:8080/",
          "height": 0
        },
        "id": "3IpemHhhSsdB",
        "outputId": "335fb6c6-d25c-4c85-9b51-3b955c807bac"
      },
      "execution_count": 64,
      "outputs": [
        {
          "output_type": "execute_result",
          "data": {
            "text/plain": [
              "[8, 10, 9, 1, 4, 5, 4, 3, 6, 5]"
            ]
          },
          "metadata": {},
          "execution_count": 64
        }
      ]
    },
    {
      "cell_type": "code",
      "source": [
        "np.array(data)"
      ],
      "metadata": {
        "colab": {
          "base_uri": "https://localhost:8080/",
          "height": 0
        },
        "id": "ThiAgOLaTqU-",
        "outputId": "1129afa2-c23a-4d2b-b3b6-637506bb46e3"
      },
      "execution_count": 66,
      "outputs": [
        {
          "output_type": "execute_result",
          "data": {
            "text/plain": [
              "array([ 8, 10,  9,  1,  4,  5,  4,  3,  6,  5])"
            ]
          },
          "metadata": {},
          "execution_count": 66
        }
      ]
    },
    {
      "cell_type": "markdown",
      "source": [
        "### 1.3 Replicating, joining, or mutating existing arrays\n",
        "\n",
        "Once you have created arrays, you can replicate, join, or mutate those existing arrays to create new arrays. When you assign an array or its elements to a new variable, you have to explicitly numpy.copy"
      ],
      "metadata": {
        "id": "kGvDFsG9Wc1p"
      }
    },
    {
      "cell_type": "code",
      "source": [
        "a = np.array([1,2,3,4,5]) # creating an array\n",
        "b = a[:2] # slicing array upto index 2\n",
        "b += 1 # adding 1 to the array b\n",
        "print('a',a, ';b', b) # this gives two array one is original a and another is b"
      ],
      "metadata": {
        "colab": {
          "base_uri": "https://localhost:8080/",
          "height": 0
        },
        "id": "tWtsGJNQUGh8",
        "outputId": "eb1a10bc-2ad4-4f0b-8201-9fc80be47d8c"
      },
      "execution_count": 70,
      "outputs": [
        {
          "output_type": "stream",
          "name": "stdout",
          "text": [
            "a [2 3 3 4 5] ;b [2 3]\n"
          ]
        }
      ]
    },
    {
      "cell_type": "markdown",
      "source": [
        "Now using copy function but same result"
      ],
      "metadata": {
        "id": "ghO62EbzZI_q"
      }
    },
    {
      "cell_type": "code",
      "source": [
        "a = np.array([1, 2, 3, 4])\n",
        "b = a[:2].copy()\n",
        "b += 1\n",
        "print('a = ', a, ';b = ', b)"
      ],
      "metadata": {
        "colab": {
          "base_uri": "https://localhost:8080/",
          "height": 0
        },
        "id": "7j330GOjYoVC",
        "outputId": "cef9e02c-6728-4315-ad36-d35be261dca5"
      },
      "execution_count": 73,
      "outputs": [
        {
          "output_type": "stream",
          "name": "stdout",
          "text": [
            "a =  [1 2 3 4] ;b =  [2 3]\n"
          ]
        }
      ]
    },
    {
      "cell_type": "markdown",
      "source": [
        "# 2. Indexing on ndarrays\n",
        "\n",
        "ndarrays can be indexed using the standard Python x[obj] syntax, where x is the array and obj the selection. There are different kinds of indexing available depending on obj: basic indexing, advanced indexing and field access.\n",
        "\n",
        "Most of the following examples show the use of indexing when referencing data in an array. The examples work just as well when assigning to an array. See Assigning values to indexed arrays for specific examples and explanations on how assignments work.\n",
        "\n",
        "Note that in Python, x[(exp1, exp2, ..., expN)] is equivalent to x[exp1, exp2, ..., expN]; the latter is just syntactic sugar for the former."
      ],
      "metadata": {
        "id": "plc4vBSlZ3pU"
      }
    },
    {
      "cell_type": "markdown",
      "source": [
        "### 2.1 Basic : single element indexing"
      ],
      "metadata": {
        "id": "bpPuPuh_bcfN"
      }
    },
    {
      "cell_type": "code",
      "source": [
        "x = np.arange(10)\n",
        "x"
      ],
      "metadata": {
        "colab": {
          "base_uri": "https://localhost:8080/",
          "height": 0
        },
        "id": "tGUcM86nZuZi",
        "outputId": "d896e3d8-93a3-4efb-e60b-7c7cf50d0a12"
      },
      "execution_count": 76,
      "outputs": [
        {
          "output_type": "execute_result",
          "data": {
            "text/plain": [
              "array([0, 1, 2, 3, 4, 5, 6, 7, 8, 9])"
            ]
          },
          "metadata": {},
          "execution_count": 76
        }
      ]
    },
    {
      "cell_type": "code",
      "source": [
        "x[2] # Gives the result 2\n",
        "# This is the forward indexing which starts with 0 to n i.e., \n",
        "# If you want to return 3rd value then indexing will be 2 (0,1,2)"
      ],
      "metadata": {
        "colab": {
          "base_uri": "https://localhost:8080/",
          "height": 0
        },
        "id": "HlNGm8MVbzxN",
        "outputId": "150ec300-fc2f-4d7e-dd14-14926780c075"
      },
      "execution_count": 79,
      "outputs": [
        {
          "output_type": "execute_result",
          "data": {
            "text/plain": [
              "2"
            ]
          },
          "metadata": {},
          "execution_count": 79
        }
      ]
    },
    {
      "cell_type": "code",
      "source": [
        "x[-2] # gives the result 8\n",
        "# This is the backward indexing which starts with -1,-2,....n i.e.,\n",
        "# If you want to return last value then then use the index as -1"
      ],
      "metadata": {
        "colab": {
          "base_uri": "https://localhost:8080/",
          "height": 0
        },
        "id": "7k9f8wevchac",
        "outputId": "36f224b7-45b0-4f27-bd60-72bdb9f6b183"
      },
      "execution_count": 80,
      "outputs": [
        {
          "output_type": "execute_result",
          "data": {
            "text/plain": [
              "8"
            ]
          },
          "metadata": {},
          "execution_count": 80
        }
      ]
    },
    {
      "cell_type": "code",
      "source": [
        "x.shape = (2,5) # it converts the x into 2 dimensions ( 2 rows and 5 columns)\n",
        "# Now indexing should mention both row and column"
      ],
      "metadata": {
        "id": "0agsNm9UdBGF"
      },
      "execution_count": 83,
      "outputs": []
    },
    {
      "cell_type": "code",
      "source": [
        "x"
      ],
      "metadata": {
        "colab": {
          "base_uri": "https://localhost:8080/",
          "height": 0
        },
        "id": "bHE8snCRdZKf",
        "outputId": "c87c3acc-8a47-4e75-c55e-41481d9b60b1"
      },
      "execution_count": 84,
      "outputs": [
        {
          "output_type": "execute_result",
          "data": {
            "text/plain": [
              "array([[0, 1, 2, 3, 4],\n",
              "       [5, 6, 7, 8, 9]])"
            ]
          },
          "metadata": {},
          "execution_count": 84
        }
      ]
    },
    {
      "cell_type": "code",
      "source": [
        "x[1,3] # It shows the value of second row and forth column = 8"
      ],
      "metadata": {
        "colab": {
          "base_uri": "https://localhost:8080/",
          "height": 0
        },
        "id": "A0kLJCDMdZuk",
        "outputId": "48a80bd8-b2d7-4c7e-c0d9-2d81893e6f8d"
      },
      "execution_count": 87,
      "outputs": [
        {
          "output_type": "execute_result",
          "data": {
            "text/plain": [
              "8"
            ]
          },
          "metadata": {},
          "execution_count": 87
        }
      ]
    },
    {
      "cell_type": "code",
      "source": [],
      "metadata": {
        "id": "cHeWnew6dntB"
      },
      "execution_count": null,
      "outputs": []
    }
  ]
}